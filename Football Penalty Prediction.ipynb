{
 "cells": [
  {
   "cell_type": "code",
   "execution_count": 1,
   "metadata": {},
   "outputs": [
    {
     "data": {
      "text/html": [
       "<div>\n",
       "<style scoped>\n",
       "    .dataframe tbody tr th:only-of-type {\n",
       "        vertical-align: middle;\n",
       "    }\n",
       "\n",
       "    .dataframe tbody tr th {\n",
       "        vertical-align: top;\n",
       "    }\n",
       "\n",
       "    .dataframe thead th {\n",
       "        text-align: right;\n",
       "    }\n",
       "</style>\n",
       "<table border=\"1\" class=\"dataframe\">\n",
       "  <thead>\n",
       "    <tr style=\"text-align: right;\">\n",
       "      <th></th>\n",
       "      <th>No.</th>\n",
       "      <th>Match Week</th>\n",
       "      <th>Date</th>\n",
       "      <th>Player</th>\n",
       "      <th>Team</th>\n",
       "      <th>Versus</th>\n",
       "      <th>Match</th>\n",
       "      <th>Time of Penalty Awarded</th>\n",
       "      <th>Scored</th>\n",
       "      <th>Foot</th>\n",
       "      <th>Kick_Direction</th>\n",
       "      <th>Keeper_Direction</th>\n",
       "    </tr>\n",
       "  </thead>\n",
       "  <tbody>\n",
       "    <tr>\n",
       "      <th>0</th>\n",
       "      <td>1</td>\n",
       "      <td>1</td>\n",
       "      <td>13-Aug-16</td>\n",
       "      <td>Riyad Mahrez</td>\n",
       "      <td>Leicester</td>\n",
       "      <td>Hull</td>\n",
       "      <td>Hull vs Leicester</td>\n",
       "      <td>47' minute</td>\n",
       "      <td>Scored</td>\n",
       "      <td>L</td>\n",
       "      <td>C</td>\n",
       "      <td>R</td>\n",
       "    </tr>\n",
       "    <tr>\n",
       "      <th>1</th>\n",
       "      <td>2</td>\n",
       "      <td>1</td>\n",
       "      <td>13-Aug-16</td>\n",
       "      <td>Sergio Agüero</td>\n",
       "      <td>Man City</td>\n",
       "      <td>Sunderland</td>\n",
       "      <td>Man City vs Sunderland</td>\n",
       "      <td>4' minute</td>\n",
       "      <td>Scored</td>\n",
       "      <td>R</td>\n",
       "      <td>L</td>\n",
       "      <td>L</td>\n",
       "    </tr>\n",
       "    <tr>\n",
       "      <th>2</th>\n",
       "      <td>3</td>\n",
       "      <td>1</td>\n",
       "      <td>14-Aug-16</td>\n",
       "      <td>Theo Walcott</td>\n",
       "      <td>Arsenal</td>\n",
       "      <td>Liverpool</td>\n",
       "      <td>Arsenal vs Liverpool</td>\n",
       "      <td>30' minute</td>\n",
       "      <td>Missed</td>\n",
       "      <td>R</td>\n",
       "      <td>L</td>\n",
       "      <td>L</td>\n",
       "    </tr>\n",
       "    <tr>\n",
       "      <th>3</th>\n",
       "      <td>4</td>\n",
       "      <td>1</td>\n",
       "      <td>15-Aug-16</td>\n",
       "      <td>Eden Hazard</td>\n",
       "      <td>Chelsea</td>\n",
       "      <td>West Ham</td>\n",
       "      <td>Chelsea vs West Ham</td>\n",
       "      <td>47' minute</td>\n",
       "      <td>Scored</td>\n",
       "      <td>R</td>\n",
       "      <td>C</td>\n",
       "      <td>L</td>\n",
       "    </tr>\n",
       "    <tr>\n",
       "      <th>4</th>\n",
       "      <td>5</td>\n",
       "      <td>2</td>\n",
       "      <td>19-Aug-16</td>\n",
       "      <td>Zlatan Ibrahimovic</td>\n",
       "      <td>Man United</td>\n",
       "      <td>Southampton</td>\n",
       "      <td>Man United vs Southampton</td>\n",
       "      <td>52' minute</td>\n",
       "      <td>Scored</td>\n",
       "      <td>R</td>\n",
       "      <td>L</td>\n",
       "      <td>R</td>\n",
       "    </tr>\n",
       "  </tbody>\n",
       "</table>\n",
       "</div>"
      ],
      "text/plain": [
       "   No.  Match Week       Date              Player        Team       Versus  \\\n",
       "0    1           1  13-Aug-16        Riyad Mahrez   Leicester         Hull   \n",
       "1    2           1  13-Aug-16       Sergio Agüero    Man City   Sunderland   \n",
       "2    3           1  14-Aug-16        Theo Walcott     Arsenal    Liverpool   \n",
       "3    4           1  15-Aug-16         Eden Hazard     Chelsea     West Ham   \n",
       "4    5           2  19-Aug-16  Zlatan Ibrahimovic  Man United  Southampton   \n",
       "\n",
       "                       Match Time of Penalty Awarded  Scored Foot  \\\n",
       "0          Hull vs Leicester              47' minute  Scored    L   \n",
       "1     Man City vs Sunderland               4' minute  Scored    R   \n",
       "2       Arsenal vs Liverpool              30' minute  Missed    R   \n",
       "3        Chelsea vs West Ham              47' minute  Scored    R   \n",
       "4  Man United vs Southampton              52' minute  Scored    R   \n",
       "\n",
       "  Kick_Direction Keeper_Direction  \n",
       "0              C                R  \n",
       "1              L                L  \n",
       "2              L                L  \n",
       "3              C                L  \n",
       "4              L                R  "
      ]
     },
     "execution_count": 1,
     "metadata": {},
     "output_type": "execute_result"
    }
   ],
   "source": [
    "import pandas as pd\n",
    "import numpy as np\n",
    "\n",
    "working_file=pd.read_csv('Desktop/Kaggle/Penaltycheck-master/Football Penalty Data.csv',encoding='latin')\n",
    "working_file.head()"
   ]
  },
  {
   "cell_type": "code",
   "execution_count": 2,
   "metadata": {},
   "outputs": [
    {
     "data": {
      "text/html": [
       "<div>\n",
       "<style scoped>\n",
       "    .dataframe tbody tr th:only-of-type {\n",
       "        vertical-align: middle;\n",
       "    }\n",
       "\n",
       "    .dataframe tbody tr th {\n",
       "        vertical-align: top;\n",
       "    }\n",
       "\n",
       "    .dataframe thead th {\n",
       "        text-align: right;\n",
       "    }\n",
       "</style>\n",
       "<table border=\"1\" class=\"dataframe\">\n",
       "  <thead>\n",
       "    <tr style=\"text-align: right;\">\n",
       "      <th></th>\n",
       "      <th>No.</th>\n",
       "      <th>Match Week</th>\n",
       "      <th>Date</th>\n",
       "      <th>Player</th>\n",
       "      <th>Team</th>\n",
       "      <th>Versus</th>\n",
       "      <th>Match</th>\n",
       "      <th>Time of Penalty Awarded</th>\n",
       "      <th>Scored</th>\n",
       "      <th>Foot</th>\n",
       "      <th>Kick_Direction</th>\n",
       "      <th>Keeper_Direction</th>\n",
       "    </tr>\n",
       "  </thead>\n",
       "  <tbody>\n",
       "    <tr>\n",
       "      <th>0</th>\n",
       "      <td>False</td>\n",
       "      <td>False</td>\n",
       "      <td>False</td>\n",
       "      <td>False</td>\n",
       "      <td>False</td>\n",
       "      <td>False</td>\n",
       "      <td>False</td>\n",
       "      <td>False</td>\n",
       "      <td>False</td>\n",
       "      <td>False</td>\n",
       "      <td>False</td>\n",
       "      <td>False</td>\n",
       "    </tr>\n",
       "    <tr>\n",
       "      <th>1</th>\n",
       "      <td>False</td>\n",
       "      <td>False</td>\n",
       "      <td>False</td>\n",
       "      <td>False</td>\n",
       "      <td>False</td>\n",
       "      <td>False</td>\n",
       "      <td>False</td>\n",
       "      <td>False</td>\n",
       "      <td>False</td>\n",
       "      <td>False</td>\n",
       "      <td>False</td>\n",
       "      <td>False</td>\n",
       "    </tr>\n",
       "    <tr>\n",
       "      <th>2</th>\n",
       "      <td>False</td>\n",
       "      <td>False</td>\n",
       "      <td>False</td>\n",
       "      <td>False</td>\n",
       "      <td>False</td>\n",
       "      <td>False</td>\n",
       "      <td>False</td>\n",
       "      <td>False</td>\n",
       "      <td>False</td>\n",
       "      <td>False</td>\n",
       "      <td>False</td>\n",
       "      <td>False</td>\n",
       "    </tr>\n",
       "    <tr>\n",
       "      <th>3</th>\n",
       "      <td>False</td>\n",
       "      <td>False</td>\n",
       "      <td>False</td>\n",
       "      <td>False</td>\n",
       "      <td>False</td>\n",
       "      <td>False</td>\n",
       "      <td>False</td>\n",
       "      <td>False</td>\n",
       "      <td>False</td>\n",
       "      <td>False</td>\n",
       "      <td>False</td>\n",
       "      <td>False</td>\n",
       "    </tr>\n",
       "    <tr>\n",
       "      <th>4</th>\n",
       "      <td>False</td>\n",
       "      <td>False</td>\n",
       "      <td>False</td>\n",
       "      <td>False</td>\n",
       "      <td>False</td>\n",
       "      <td>False</td>\n",
       "      <td>False</td>\n",
       "      <td>False</td>\n",
       "      <td>False</td>\n",
       "      <td>False</td>\n",
       "      <td>False</td>\n",
       "      <td>False</td>\n",
       "    </tr>\n",
       "    <tr>\n",
       "      <th>...</th>\n",
       "      <td>...</td>\n",
       "      <td>...</td>\n",
       "      <td>...</td>\n",
       "      <td>...</td>\n",
       "      <td>...</td>\n",
       "      <td>...</td>\n",
       "      <td>...</td>\n",
       "      <td>...</td>\n",
       "      <td>...</td>\n",
       "      <td>...</td>\n",
       "      <td>...</td>\n",
       "      <td>...</td>\n",
       "    </tr>\n",
       "    <tr>\n",
       "      <th>98</th>\n",
       "      <td>False</td>\n",
       "      <td>False</td>\n",
       "      <td>False</td>\n",
       "      <td>False</td>\n",
       "      <td>False</td>\n",
       "      <td>False</td>\n",
       "      <td>False</td>\n",
       "      <td>False</td>\n",
       "      <td>False</td>\n",
       "      <td>False</td>\n",
       "      <td>False</td>\n",
       "      <td>False</td>\n",
       "    </tr>\n",
       "    <tr>\n",
       "      <th>99</th>\n",
       "      <td>False</td>\n",
       "      <td>False</td>\n",
       "      <td>False</td>\n",
       "      <td>False</td>\n",
       "      <td>False</td>\n",
       "      <td>False</td>\n",
       "      <td>False</td>\n",
       "      <td>False</td>\n",
       "      <td>False</td>\n",
       "      <td>False</td>\n",
       "      <td>False</td>\n",
       "      <td>False</td>\n",
       "    </tr>\n",
       "    <tr>\n",
       "      <th>100</th>\n",
       "      <td>False</td>\n",
       "      <td>False</td>\n",
       "      <td>False</td>\n",
       "      <td>False</td>\n",
       "      <td>False</td>\n",
       "      <td>False</td>\n",
       "      <td>False</td>\n",
       "      <td>False</td>\n",
       "      <td>False</td>\n",
       "      <td>False</td>\n",
       "      <td>False</td>\n",
       "      <td>False</td>\n",
       "    </tr>\n",
       "    <tr>\n",
       "      <th>101</th>\n",
       "      <td>False</td>\n",
       "      <td>False</td>\n",
       "      <td>False</td>\n",
       "      <td>False</td>\n",
       "      <td>False</td>\n",
       "      <td>False</td>\n",
       "      <td>False</td>\n",
       "      <td>False</td>\n",
       "      <td>False</td>\n",
       "      <td>False</td>\n",
       "      <td>False</td>\n",
       "      <td>False</td>\n",
       "    </tr>\n",
       "    <tr>\n",
       "      <th>102</th>\n",
       "      <td>False</td>\n",
       "      <td>False</td>\n",
       "      <td>False</td>\n",
       "      <td>False</td>\n",
       "      <td>False</td>\n",
       "      <td>False</td>\n",
       "      <td>False</td>\n",
       "      <td>False</td>\n",
       "      <td>False</td>\n",
       "      <td>False</td>\n",
       "      <td>False</td>\n",
       "      <td>False</td>\n",
       "    </tr>\n",
       "  </tbody>\n",
       "</table>\n",
       "<p>103 rows × 12 columns</p>\n",
       "</div>"
      ],
      "text/plain": [
       "       No.  Match Week   Date  Player   Team  Versus  Match  \\\n",
       "0    False       False  False   False  False   False  False   \n",
       "1    False       False  False   False  False   False  False   \n",
       "2    False       False  False   False  False   False  False   \n",
       "3    False       False  False   False  False   False  False   \n",
       "4    False       False  False   False  False   False  False   \n",
       "..     ...         ...    ...     ...    ...     ...    ...   \n",
       "98   False       False  False   False  False   False  False   \n",
       "99   False       False  False   False  False   False  False   \n",
       "100  False       False  False   False  False   False  False   \n",
       "101  False       False  False   False  False   False  False   \n",
       "102  False       False  False   False  False   False  False   \n",
       "\n",
       "     Time of Penalty Awarded  Scored   Foot  Kick_Direction  Keeper_Direction  \n",
       "0                      False   False  False           False             False  \n",
       "1                      False   False  False           False             False  \n",
       "2                      False   False  False           False             False  \n",
       "3                      False   False  False           False             False  \n",
       "4                      False   False  False           False             False  \n",
       "..                       ...     ...    ...             ...               ...  \n",
       "98                     False   False  False           False             False  \n",
       "99                     False   False  False           False             False  \n",
       "100                    False   False  False           False             False  \n",
       "101                    False   False  False           False             False  \n",
       "102                    False   False  False           False             False  \n",
       "\n",
       "[103 rows x 12 columns]"
      ]
     },
     "execution_count": 2,
     "metadata": {},
     "output_type": "execute_result"
    }
   ],
   "source": [
    "working_file.isnull()"
   ]
  },
  {
   "cell_type": "code",
   "execution_count": 3,
   "metadata": {},
   "outputs": [
    {
     "data": {
      "text/plain": [
       "No.                        0\n",
       "Match Week                 0\n",
       "Date                       0\n",
       "Player                     0\n",
       "Team                       0\n",
       "Versus                     0\n",
       "Match                      0\n",
       "Time of Penalty Awarded    0\n",
       "Scored                     0\n",
       "Foot                       0\n",
       "Kick_Direction             0\n",
       "Keeper_Direction           0\n",
       "dtype: int64"
      ]
     },
     "execution_count": 3,
     "metadata": {},
     "output_type": "execute_result"
    }
   ],
   "source": [
    "working_file.isnull().sum()"
   ]
  },
  {
   "cell_type": "code",
   "execution_count": 4,
   "metadata": {},
   "outputs": [
    {
     "data": {
      "text/plain": [
       "Bournemouth       9\n",
       "Man City          9\n",
       "Tottenham         9\n",
       "Liverpool         8\n",
       "Stoke             6\n",
       "Arsenal           6\n",
       "Southampton       6\n",
       "Crystal Palace    6\n",
       "West Ham          5\n",
       "Sunderland        5\n",
       "Burnley           5\n",
       "Leicester         5\n",
       "Everton           4\n",
       "Man United        4\n",
       "Chelsea           4\n",
       "Watford           3\n",
       "Hull              3\n",
       "Swansea           3\n",
       "Middlesbrough     2\n",
       "West Brom         1\n",
       "Name: Team, dtype: int64"
      ]
     },
     "execution_count": 4,
     "metadata": {},
     "output_type": "execute_result"
    }
   ],
   "source": [
    "working_file['Team'].value_counts()"
   ]
  },
  {
   "cell_type": "code",
   "execution_count": 5,
   "metadata": {},
   "outputs": [
    {
     "data": {
      "text/plain": [
       "<bound method NDFrame.describe of      No.  Match Week       Date              Player            Team  \\\n",
       "0      1           1  13-Aug-16        Riyad Mahrez       Leicester   \n",
       "1      2           1  13-Aug-16       Sergio Agüero        Man City   \n",
       "2      3           1  14-Aug-16        Theo Walcott         Arsenal   \n",
       "3      4           1  15-Aug-16         Eden Hazard         Chelsea   \n",
       "4      5           2  19-Aug-16  Zlatan Ibrahimovic      Man United   \n",
       "..   ...         ...        ...                 ...             ...   \n",
       "98   101          37  13-May-17       Gabriel Jesus        Man City   \n",
       "99   102          37  13-May-17          Shane Long     Southampton   \n",
       "100  104          37  14-May-17    Luka Milivojevic  Crystal Palace   \n",
       "101  105          37  17-May-17   Manolo Gabbiadini     Southampton   \n",
       "102  106          38  21-May-17       Romelu Lukaku         Everton   \n",
       "\n",
       "            Versus                         Match Time of Penalty Awarded  \\\n",
       "0             Hull             Hull vs Leicester              47' minute   \n",
       "1       Sunderland        Man City vs Sunderland               4' minute   \n",
       "2        Liverpool          Arsenal vs Liverpool              30' minute   \n",
       "3         West Ham           Chelsea vs West Ham              47' minute   \n",
       "4      Southampton     Man United vs Southampton              52' minute   \n",
       "..             ...                           ...                     ...   \n",
       "98       Leicester         Man City vs Leicester              36' minute   \n",
       "99   Middlesbrough  Middlesbrough vs Southampton              64' minute   \n",
       "100           Hull        Crystal Palace vs Hull              85' minute   \n",
       "101     Man United     Southampton vs Man United               6' minute   \n",
       "102        Arsenal            Arsenal vs Everton              58' minute   \n",
       "\n",
       "     Scored Foot Kick_Direction Keeper_Direction  \n",
       "0    Scored    L              C                R  \n",
       "1    Scored    R              L                L  \n",
       "2    Missed    R              L                L  \n",
       "3    Scored    R              C                L  \n",
       "4    Scored    R              L                R  \n",
       "..      ...  ...            ...              ...  \n",
       "98   Scored    R              L                R  \n",
       "99   Missed    R              L                R  \n",
       "100  Scored    R              R                L  \n",
       "101  Missed    L              R                R  \n",
       "102  Scored    L              R                R  \n",
       "\n",
       "[103 rows x 12 columns]>"
      ]
     },
     "execution_count": 5,
     "metadata": {},
     "output_type": "execute_result"
    }
   ],
   "source": [
    "working_file.describe"
   ]
  },
  {
   "cell_type": "code",
   "execution_count": 6,
   "metadata": {},
   "outputs": [
    {
     "data": {
      "text/plain": [
       "(103, 12)"
      ]
     },
     "execution_count": 6,
     "metadata": {},
     "output_type": "execute_result"
    }
   ],
   "source": [
    "working_file.shape"
   ]
  },
  {
   "cell_type": "code",
   "execution_count": 7,
   "metadata": {},
   "outputs": [
    {
     "data": {
      "text/plain": [
       "James Milner          8\n",
       "Harry Kane            6\n",
       "Jermain Defoe         5\n",
       "Sergio Agüero         5\n",
       "Riyad Mahrez          4\n",
       "Leighton Baines       3\n",
       "Zlatan Ibrahimovic    3\n",
       "Christian Benteke     3\n",
       "Callum Wilson         3\n",
       "Gylfi Sigurdsson      3\n",
       "Alexis Sánchez        3\n",
       "Troy Deeney           3\n",
       "Eden Hazard           3\n",
       "Bojan Krkic           3\n",
       "Joshua King           3\n",
       "Yaya Touré            2\n",
       "Sam Vokes             2\n",
       "Duan Tadi?           2\n",
       "Robert Snodgrass      2\n",
       "Charlie Austin        2\n",
       "Junior Stanislas      2\n",
       "Mark Noble            2\n",
       "Andre Gray            2\n",
       "Santiago Cazorla      2\n",
       "Álvaro Negredo        2\n",
       "Manuel Lanzini        2\n",
       "Luka Milivojevic      2\n",
       "Yohan Cabaye          1\n",
       "Jonathan Walters      1\n",
       "Nacer Chadli          1\n",
       "Ashley Barnes         1\n",
       "Vincent Janssen       1\n",
       "Manolo Gabbiadini     1\n",
       "Harry Arter           1\n",
       "Diego Costa           1\n",
       "Benik Afobe           1\n",
       "Islam Slimani         1\n",
       "Romelu Lukaku         1\n",
       "Gabriel Jesus         1\n",
       "Wayne Rooney          1\n",
       "Shane Long            1\n",
       "Erik Lamela           1\n",
       "Charlie Adam          1\n",
       "Kevin De Bruyne       1\n",
       "Dele Alli             1\n",
       "Tom Huddlestone       1\n",
       "Theo Walcott          1\n",
       "Marko Arnautovic      1\n",
       "Name: Player, dtype: int64"
      ]
     },
     "execution_count": 7,
     "metadata": {},
     "output_type": "execute_result"
    }
   ],
   "source": [
    "working_file['Player'].value_counts()"
   ]
  },
  {
   "cell_type": "code",
   "execution_count": 8,
   "metadata": {},
   "outputs": [
    {
     "data": {
      "text/plain": [
       "array([[1, 1, '13-Aug-16', ..., \"47' minute\", 'Scored', 'L'],\n",
       "       [2, 1, '13-Aug-16', ..., \"4' minute\", 'Scored', 'R'],\n",
       "       [3, 1, '14-Aug-16', ..., \"30' minute\", 'Missed', 'R'],\n",
       "       ...,\n",
       "       [104, 37, '14-May-17', ..., \"85' minute\", 'Scored', 'R'],\n",
       "       [105, 37, '17-May-17', ..., \"6' minute\", 'Missed', 'L'],\n",
       "       [106, 38, '21-May-17', ..., \"58' minute\", 'Scored', 'L']],\n",
       "      dtype=object)"
      ]
     },
     "execution_count": 8,
     "metadata": {},
     "output_type": "execute_result"
    }
   ],
   "source": [
    "x=working_file.values[:,0:10]\n",
    "y=working_file.values[:,10]\n",
    "x"
   ]
  },
  {
   "cell_type": "code",
   "execution_count": 9,
   "metadata": {},
   "outputs": [
    {
     "data": {
      "text/plain": [
       "array([[1, 1, 0, ..., 0, 0, 0],\n",
       "       [2, 1, 0, ..., 1, 0, 1],\n",
       "       [3, 1, 1, ..., 2, 1, 1],\n",
       "       ...,\n",
       "       [104, 37, 53, ..., 61, 0, 1],\n",
       "       [105, 37, 54, ..., 29, 1, 0],\n",
       "       [106, 38, 55, ..., 40, 0, 0]], dtype=object)"
      ]
     },
     "execution_count": 9,
     "metadata": {},
     "output_type": "execute_result"
    }
   ],
   "source": [
    "    x[:,2]=pd.factorize(x[:,2])[0]\n",
    "    x[:,3]=pd.factorize(x[:,3])[0]\n",
    "    x[:,4]=pd.factorize(x[:,4])[0]\n",
    "    x[:,5]=pd.factorize(x[:,5])[0]\n",
    "    x[:,6]=pd.factorize(x[:,6])[0]\n",
    "    x[:,7]=pd.factorize(x[:,7])[0]\n",
    "    x[:,8]=pd.factorize(x[:,8])[0]\n",
    "    x[:,9]=pd.factorize(x[:,9])[0]\n",
    "x"
   ]
  },
  {
   "cell_type": "code",
   "execution_count": 10,
   "metadata": {},
   "outputs": [],
   "source": [
    "from sklearn.model_selection import train_test_split\n",
    "x_train, x_test, y_train, y_test = train_test_split(x,y, test_size=0.25, random_state=4)"
   ]
  },
  {
   "cell_type": "code",
   "execution_count": 11,
   "metadata": {},
   "outputs": [],
   "source": [
    "from sklearn.linear_model import LogisticRegression\n",
    "cf=LogisticRegression()"
   ]
  },
  {
   "cell_type": "code",
   "execution_count": 12,
   "metadata": {},
   "outputs": [
    {
     "name": "stderr",
     "output_type": "stream",
     "text": [
      "c:\\python\\lib\\site-packages\\sklearn\\linear_model\\_logistic.py:940: ConvergenceWarning: lbfgs failed to converge (status=1):\n",
      "STOP: TOTAL NO. of ITERATIONS REACHED LIMIT.\n",
      "\n",
      "Increase the number of iterations (max_iter) or scale the data as shown in:\n",
      "    https://scikit-learn.org/stable/modules/preprocessing.html\n",
      "Please also refer to the documentation for alternative solver options:\n",
      "    https://scikit-learn.org/stable/modules/linear_model.html#logistic-regression\n",
      "  extra_warning_msg=_LOGISTIC_SOLVER_CONVERGENCE_MSG)\n"
     ]
    },
    {
     "data": {
      "text/plain": [
       "LogisticRegression(C=1.0, class_weight=None, dual=False, fit_intercept=True,\n",
       "                   intercept_scaling=1, l1_ratio=None, max_iter=100,\n",
       "                   multi_class='auto', n_jobs=None, penalty='l2',\n",
       "                   random_state=None, solver='lbfgs', tol=0.0001, verbose=0,\n",
       "                   warm_start=False)"
      ]
     },
     "execution_count": 12,
     "metadata": {},
     "output_type": "execute_result"
    }
   ],
   "source": [
    "cf.fit(x_train, y_train)\n"
   ]
  },
  {
   "cell_type": "code",
   "execution_count": 13,
   "metadata": {},
   "outputs": [],
   "source": [
    "y_pred=cf.predict(x_test)"
   ]
  },
  {
   "cell_type": "code",
   "execution_count": 14,
   "metadata": {},
   "outputs": [
    {
     "name": "stdout",
     "output_type": "stream",
     "text": [
      "['R' 'C' 'L' 'R' 'L' 'R' 'C' 'R' 'R' 'R' 'L' 'R' 'R' 'L' 'C' 'L' 'L' 'L'\n",
      " 'R' 'R' 'R' 'L' 'L' 'L' 'L' 'C']\n"
     ]
    }
   ],
   "source": [
    "print(y_pred)"
   ]
  },
  {
   "cell_type": "code",
   "execution_count": 15,
   "metadata": {},
   "outputs": [
    {
     "data": {
      "text/plain": [
       "array([[0.20340964, 0.24146381, 0.55512655],\n",
       "       [0.55935032, 0.09653345, 0.34411623],\n",
       "       [0.06779734, 0.50665381, 0.42554886],\n",
       "       [0.21391232, 0.3482747 , 0.43781298],\n",
       "       [0.09965693, 0.47069281, 0.42965026],\n",
       "       [0.2427795 , 0.26732058, 0.48989991],\n",
       "       [0.35542677, 0.35200566, 0.29256756],\n",
       "       [0.0776496 , 0.32619701, 0.59615339],\n",
       "       [0.26695111, 0.31734693, 0.41570196],\n",
       "       [0.10990196, 0.41624286, 0.47385518],\n",
       "       [0.06832138, 0.62700729, 0.30467133],\n",
       "       [0.28345026, 0.27065341, 0.44589634],\n",
       "       [0.12130338, 0.24952163, 0.62917499],\n",
       "       [0.10121688, 0.76151522, 0.1372679 ],\n",
       "       [0.47545388, 0.19321716, 0.33132896],\n",
       "       [0.1286592 , 0.524349  , 0.3469918 ],\n",
       "       [0.24838119, 0.4397406 , 0.31187821],\n",
       "       [0.09860079, 0.69326669, 0.20813252],\n",
       "       [0.35670053, 0.25679421, 0.38650526],\n",
       "       [0.09484926, 0.37882863, 0.52632211],\n",
       "       [0.15544807, 0.22928183, 0.61527011],\n",
       "       [0.05212542, 0.54745355, 0.40042102],\n",
       "       [0.13687926, 0.53440732, 0.32871342],\n",
       "       [0.07751265, 0.51378031, 0.40870704],\n",
       "       [0.15222779, 0.52197262, 0.3257996 ],\n",
       "       [0.53327252, 0.15793778, 0.3087897 ]])"
      ]
     },
     "execution_count": 15,
     "metadata": {},
     "output_type": "execute_result"
    }
   ],
   "source": [
    "cf.predict_proba(x_test)"
   ]
  },
  {
   "cell_type": "code",
   "execution_count": 16,
   "metadata": {},
   "outputs": [
    {
     "data": {
      "text/plain": [
       "0.6923076923076923"
      ]
     },
     "execution_count": 16,
     "metadata": {},
     "output_type": "execute_result"
    }
   ],
   "source": [
    "cf.score(x_test,y_test)"
   ]
  },
  {
   "cell_type": "code",
   "execution_count": 17,
   "metadata": {},
   "outputs": [],
   "source": [
    "from sklearn import metrics\n",
    "import seaborn as sns"
   ]
  },
  {
   "cell_type": "code",
   "execution_count": 18,
   "metadata": {},
   "outputs": [
    {
     "data": {
      "text/plain": [
       "array([[1, 0, 2],\n",
       "       [3, 9, 1],\n",
       "       [0, 2, 8]], dtype=int64)"
      ]
     },
     "execution_count": 18,
     "metadata": {},
     "output_type": "execute_result"
    }
   ],
   "source": [
    "cnf_matrix=metrics.confusion_matrix(y_test,y_pred)\n",
    "cnf_matrix"
   ]
  },
  {
   "cell_type": "code",
   "execution_count": 19,
   "metadata": {},
   "outputs": [
    {
     "data": {
      "text/plain": [
       "0.6923076923076923"
      ]
     },
     "execution_count": 19,
     "metadata": {},
     "output_type": "execute_result"
    }
   ],
   "source": [
    "metrics.accuracy_score(y_test,y_pred)"
   ]
  },
  {
   "cell_type": "code",
   "execution_count": null,
   "metadata": {},
   "outputs": [],
   "source": []
  }
 ],
 "metadata": {
  "kernelspec": {
   "display_name": "Python 3",
   "language": "python",
   "name": "python3"
  },
  "language_info": {
   "codemirror_mode": {
    "name": "ipython",
    "version": 3
   },
   "file_extension": ".py",
   "mimetype": "text/x-python",
   "name": "python",
   "nbconvert_exporter": "python",
   "pygments_lexer": "ipython3",
   "version": "3.7.1"
  }
 },
 "nbformat": 4,
 "nbformat_minor": 4
}
